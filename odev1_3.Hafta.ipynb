{
 "cells": [
  {
   "cell_type": "code",
   "execution_count": 2,
   "metadata": {},
   "outputs": [
    {
     "name": "stdout",
     "output_type": "stream",
     "text": [
      "Başlangıç Boyutu:  64\n"
     ]
    }
   ],
   "source": [
    "import sys\n",
    "\n",
    "my_L_1 = []\n",
    "size_1 = sys.getsizeof(my_L_1)\n",
    "print(\"Başlangıç Boyutu: \" , size_1)\n",
    "\n"
   ]
  },
  {
   "cell_type": "code",
   "execution_count": 3,
   "metadata": {},
   "outputs": [
    {
     "name": "stdout",
     "output_type": "stream",
     "text": [
      "Dizi yer değiştirdi ~~ Size:  96\n",
      "Dizi yer değiştirdi ~~ Size:  128\n",
      "Dizi yer değiştirdi ~~ Size:  192\n",
      "['1.test', '2.test', '3.test', '4.test', '5.test', '6.test', '7.test', '8.test', '9.test', '10.test']\n"
     ]
    }
   ],
   "source": [
    "for i in range(10):\n",
    "    my_L_1.append(str(i+1) + \".test\")\n",
    "    if(size_1 != sys.getsizeof(my_L_1)):\n",
    "        print(\"Dizi yer değiştirdi\" , end=\" ~~ \")\n",
    "        size_1 = sys.getsizeof(my_L_1)\n",
    "        print(\"Size: \" , size_1)\n",
    "print(my_L_1)"
   ]
  },
  {
   "cell_type": "code",
   "execution_count": null,
   "metadata": {
    "collapsed": true
   },
   "outputs": [],
   "source": []
  }
 ],
 "metadata": {
  "kernelspec": {
   "display_name": "Python 3",
   "language": "python",
   "name": "python3"
  },
  "language_info": {
   "codemirror_mode": {
    "name": "ipython",
    "version": 3
   },
   "file_extension": ".py",
   "mimetype": "text/x-python",
   "name": "python",
   "nbconvert_exporter": "python",
   "pygments_lexer": "ipython3",
   "version": "3.6.2"
  }
 },
 "nbformat": 4,
 "nbformat_minor": 2
}
