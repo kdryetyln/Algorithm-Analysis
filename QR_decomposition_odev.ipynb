{
 "cells": [
  {
   "cell_type": "code",
   "execution_count": 1,
   "metadata": {
    "collapsed": true
   },
   "outputs": [],
   "source": [
    "import numpy as np\n",
    " \n",
    "def qr(A):\n",
    "    m, n = A.shape\n",
    "    Q = np.eye(m)\n",
    "    for i in range(n - (m == n)):\n",
    "        H = np.eye(m)\n",
    "        H[i:, i:] = make_householder(A[i:, i])\n",
    "        Q = np.dot(Q, H)\n",
    "        A = np.dot(H, A)\n",
    "    return Q, A\n",
    " \n",
    "def make_householder(a):\n",
    "    v = a / (a[0] + np.copysign(np.linalg.norm(a), a[0]))\n",
    "    v[0] = 1\n",
    "    H = np.eye(a.shape[0])\n",
    "    H -= (2 / np.dot(v, v)) * np.dot(v[:, None], v[None, :])\n",
    "    return H"
   ]
  },
  {
   "cell_type": "code",
   "execution_count": 2,
   "metadata": {
    "collapsed": false
   },
   "outputs": [
    {
     "name": "stdout",
     "output_type": "stream",
     "text": [
      "q:\n",
      " [[-0.857143  0.394286  0.331429]\n",
      " [-0.428571 -0.902857 -0.034286]\n",
      " [ 0.285714 -0.171429  0.942857]]\n",
      "r:\n",
      " [[ -14.  -21.   14.]\n",
      " [   0. -175.   70.]\n",
      " [   0.    0.  -35.]]\n"
     ]
    }
   ],
   "source": [
    "a = np.array(((\n",
    "    (12, -51,   4),\n",
    "    ( 6, 167, -68),\n",
    "    (-4,  24, -41),\n",
    ")))\n",
    " \n",
    "q, r = qr(a)\n",
    "print('q:\\n', q.round(6))\n",
    "print('r:\\n', r.round(6))"
   ]
  },
  {
   "cell_type": "code",
   "execution_count": 3,
   "metadata": {
    "collapsed": false
   },
   "outputs": [
    {
     "name": "stdout",
     "output_type": "stream",
     "text": [
      "\n",
      "polyfit:\n",
      " [ 1.  2.  3.]\n"
     ]
    }
   ],
   "source": [
    "def polyfit(x, y, n):\n",
    "    return lsqr(x[:, None]**np.arange(n + 1), y.T)\n",
    " \n",
    "def lsqr(a, b):\n",
    "    q, r = qr(a)\n",
    "    _, n = r.shape\n",
    "    return np.linalg.solve(r[:n, :], np.dot(q.T, b)[:n])\n",
    " \n",
    "x = np.array((0, 1, 2, 3, 4, 5, 6, 7, 8, 9, 10))\n",
    "y = np.array((1, 6, 17, 34, 57, 86, 121, 162, 209, 262, 321))\n",
    " \n",
    "print('\\npolyfit:\\n', polyfit(x, y, 2))"
   ]
  },
  {
   "cell_type": "code",
   "execution_count": null,
   "metadata": {
    "collapsed": true
   },
   "outputs": [],
   "source": []
  }
 ],
 "metadata": {
  "kernelspec": {
   "display_name": "Python [default]",
   "language": "python",
   "name": "python3"
  },
  "language_info": {
   "codemirror_mode": {
    "name": "ipython",
    "version": 3
   },
   "file_extension": ".py",
   "mimetype": "text/x-python",
   "name": "python",
   "nbconvert_exporter": "python",
   "pygments_lexer": "ipython3",
   "version": "3.5.2"
  }
 },
 "nbformat": 4,
 "nbformat_minor": 1
}
